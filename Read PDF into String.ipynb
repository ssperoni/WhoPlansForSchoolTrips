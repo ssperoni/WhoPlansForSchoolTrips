{
 "cells": [
  {
   "cell_type": "markdown",
   "id": "feaf101a",
   "metadata": {},
   "source": [
    "Test of PDF Reader into String (one demo file only)"
   ]
  },
  {
   "cell_type": "code",
   "execution_count": 1,
   "id": "380e310c",
   "metadata": {},
   "outputs": [],
   "source": [
    "#Drawn from https://www.geeksforgeeks.org/working-with-pdf-files-in-python/ via Sophia\n",
    "\n",
    "import PyPDF2\n",
    "#pdfFileObj = open('/Volumes/GoogleDrive-105310167471895906199/My Drive/1 - Coursework/10 - 2021-22/UP 229/WhoPlansForSchoolTrips/TestPDFs/1-04-11CSMinutes.pdf', 'rb')\n",
    "#pdfReader = PyPDF2.PdfFileReader(pdfFileObj)\n",
    "#print(pdfReader.numPages) #prints number of pages in the \n",
    "#CAN READ ALL PAGES _FIX\n",
    "#pageObj = pdfReader.getPage(0)   #creates a page object, but I have no idea why?\n",
    "#print(pageObj.extractText())   #shows text -- would comment this out when applying to whole pot\n",
    "#pdfFileObj.close()  #closes the object, but I'm not 100% sure why this is needed beyond it's how the code reads the PDF and then needs to close it?"
   ]
  },
  {
   "cell_type": "code",
   "execution_count": 2,
   "id": "80eac5a8",
   "metadata": {},
   "outputs": [],
   "source": [
    "#this is me trying to purely read the pdf file - works but not readable\n",
    "import urllib3\n",
    "http = urllib3.PoolManager()\n",
    "r = http.request('GET', 'http://laschoolboard.org/sites/default/files/1-04-11CSMinutes.pdf')"
   ]
  },
  {
   "cell_type": "code",
   "execution_count": 1,
   "id": "9d4d5c43",
   "metadata": {
    "scrolled": false
   },
   "outputs": [],
   "source": [
    "#print(r.data)"
   ]
  },
  {
   "cell_type": "code",
   "execution_count": 5,
   "id": "1bbf11e7",
   "metadata": {},
   "outputs": [],
   "source": [
    "import urllib.request\n",
    "#borrowed this from here https://www.codegrepper.com/code-examples/python/use+urllib3+in+python+3+to+get+pdf+file+from+url\n",
    "#download file into 'files' folder\n",
    "\n",
    "#read said downloaded file THIS IS OBSOLETE - PDF MINER WORKS MUCH BETTER\n",
    "def read_download(name):\n",
    "    pdfFileObj = open('files/{}.pdf'.format(name), 'rb')\n",
    "    pdfReader = PyPDF2.PdfFileReader(pdfFileObj)\n",
    "    pageObj = pdfReader.getPage(0)  \n",
    "    text = pageObj.extractText()   \n",
    "    pdfFileObj.close()\n",
    "    return text   \n",
    "#apply this to dataframe\n",
    "#inputs are two lists- as in the dataframe \n",
    "#only go into pdf reading if the length of list of names/links is greater than 0 \n",
    "def download_file(download_url, filename):\n",
    "    response = urllib.request.urlopen(download_url)    \n",
    "    file = open(\"files/\" + filename + \".pdf\", 'wb')\n",
    "    file.write(response.read())\n",
    "    file.close()\n",
    "def application (pdfnames, pdfurls):\n",
    "    texts = []\n",
    "    if len(pdfnames) > 0:\n",
    "        for pdfname, pdfurl in zip(pdfnames, pdfurls):\n",
    "            download_file(pdfurl, pdfname)\n",
    "            text = extract_text(\"files/{}.pdf\".format(pdfname))\n",
    "            text_wordsonly = re.sub(r\"[^A-z\\s]\", \"\", text)\n",
    "            text_wordsonly = re.sub(r\"\\s+\", \" \", text_wordsonly)\n",
    "            texts.append(text_wordsonly)\n",
    "    return texts"
   ]
  },
  {
   "cell_type": "code",
   "execution_count": 6,
   "id": "7dd79844",
   "metadata": {
    "scrolled": false
   },
   "outputs": [
    {
     "name": "stdout",
     "output_type": "stream",
     "text": [
      "BOARD OF EDUCATION OF THE CITY OF LOS ANGELES Governing Board of the Los Angeles Unified School District SPECIAL MEETING ORDER OF BUSINESS South Beaudry Avenue Board Room am Tuesday January A Roll Call of Members B Public Comment on Items to be Discussed at This Meeting The public can address the Board at the commencement of the meeting in the Board Room on any item that is described in this notice At the conclusion of the closed session portion of the meeting announcements required regarding actions taken by the Board of Education will be made in the Board Room C Closed Session Items Purpose and Authority Conference with Legal Counsel Existing Litigation Government Code Section a Los Angeles Unified School District v Dolly Harris et al Los Angeles Superior Court Case No BC Conference with Labor Negotiator Government Code Negotiator Superintendent Cortines Employee Organizations Associated Administrators of Los Angeles California School Employees Association Los Angeles County Building and Construction Trades Council Los Angeles School Police Association Los Angeles School Police Sergeants and Lieutenants Association Service Employees International Union SEIU Local Teamsters United Teachers Los Angeles District Represented Employees and Contract Management Personnel Personnel Government Code Section Employee DisciplineDismissalRelease Employee Evaluation Superintendent of Schools Inspector General Approval of Notes Bd of Ed Closed Session Meeting Order of Business am D Recess into Closed Session E Reconvene to Open Session Report on any actions taken F Adjournment Please note that the Board of Education may consider at this meeting any item referred from a Board Meeting five calendar days prior to this meeting Education Code b The Board of Education may also refer any item on this Order of Business for the consideration of a committee or meeting of the Board of Education which meets on the Thursday immediately after this meeting Requests for disability related modifications or accommodations shall be made hours prior to the meeting to the Board Secretariat in person or by calling Beginning November a new process for speaking at Board Meetings has been implemented Individuals wishing to speak at a Board meeting must sign up at the meeting There will be no sign ups in advance of the meeting Speakers must sign up prior to the item being acted upon by the Board Speakers should plan to arrive early as items with no speakers may be acted on at the beginning of the meeting If you or your organization is seeking to influence an agreement policy site selection or any other LAUSD decision registration may be required under the Districts Lobbying Disclosure Code Please visit wwwlausdnetethics to determine if you need to register or call Materials related to an item on this Order of Business distributed to the Board of Education are available for public inspection at the Security Desk on the first floor of the Administrative Headquarters and httplaschoolboardorgnode Items circulated after the initial distribution of materials are available for inspection at the Security Desk Bd of Ed Closed Session Meeting Order of Business am \n"
     ]
    }
   ],
   "source": [
    "pdf_path = \"http://laschoolboard.org/sites/default/files/1-04-11CSAgenda.pdf\"\n",
    "name = 'r'\n",
    "\n",
    "download_file(pdf_path, name)\n",
    "from pdfminer.high_level import extract_text\n",
    "import re\n",
    "text = extract_text(\"files/{}.pdf\".format(name))\n",
    "text_wordsonly = re.sub(r\"[^A-z\\s]\", \"\", text)\n",
    "text_wordsonly = re.sub(r\"\\s+\", \" \", text_wordsonly)\n",
    "print(text_wordsonly)"
   ]
  },
  {
   "cell_type": "code",
   "execution_count": 52,
   "id": "01f836b5",
   "metadata": {},
   "outputs": [],
   "source": [
    "import urllib3\n",
    "from pdfminer.pdfinterp import PDFResourceManager, PDFPageInterpreter\n",
    "from pdfminer.converter import TextConverter\n",
    "from pdfminer.layout import LAParams\n",
    "from pdfminer.pdfpage import PDFPage\n",
    "from io import StringIO\n",
    "from io import BytesIO\n",
    "\n",
    "def pdf_from_url_to_txt(url):\n",
    "    rsrcmgr = PDFResourceManager()\n",
    "    retstr = StringIO()\n",
    "    codec = 'utf-8'\n",
    "    laparams = LAParams()\n",
    "    device = TextConverter(rsrcmgr, retstr, codec=codec, laparams=laparams)\n",
    "    f = urllib.request.urlopen(url).read()\n",
    "    fp = BytesIO(f)\n",
    "    interpreter = PDFPageInterpreter(rsrcmgr, device)\n",
    "    password = \"\"\n",
    "    maxpages = 0\n",
    "    caching = True\n",
    "    pagenos = set()\n",
    "    for page in PDFPage.get_pages(fp,\n",
    "                                  pagenos,\n",
    "                                  maxpages=maxpages,\n",
    "                                  password=password,\n",
    "                                  caching=caching,\n",
    "                                  check_extractable=True):\n",
    "        interpreter.process_page(page)\n",
    "    fp.close()\n",
    "    device.close()\n",
    "    str = retstr.getvalue()\n",
    "    retstr.close()\n",
    "    return str\n",
    "x = pdf_from_url_to_txt(re.sub(r\" \", \"%20\", df.files[6][0]))\n",
    "text_wordsonly = re.sub(r\"[^A-z\\s]\", \"\", x)\n",
    "text_wordsonly = re.sub(r\"\\s+\", \" \", text_wordsonly)\n",
    "\n",
    "def application (pdfnames, pdfurls):\n",
    "    texts = []\n",
    "    if len(pdfnames) > 0:\n",
    "        for pdfname, pdfurl in zip(pdfnames, pdfurls):\n",
    "            text = pdf_from_url_to_txt(re.sub(r\" \", \"%20\", pdfurl))\n",
    "            text_wordsonly = re.sub(r\"[^A-z\\s]\", \"\", text)\n",
    "            text_wordsonly = re.sub(r\"\\s+\", \" \", text_wordsonly)\n",
    "            texts.append(text_wordsonly)\n",
    "    return texts"
   ]
  },
  {
   "cell_type": "code",
   "execution_count": 53,
   "id": "409f207b",
   "metadata": {},
   "outputs": [],
   "source": [
    "df['text'] =df.apply(lambda x: application(x['names'], x['files']), axis = 1)"
   ]
  },
  {
   "cell_type": "code",
   "execution_count": 93,
   "id": "11ef86e7",
   "metadata": {},
   "outputs": [
    {
     "ename": "KeyError",
     "evalue": "10",
     "output_type": "error",
     "traceback": [
      "\u001b[0;31m---------------------------------------------------------------------------\u001b[0m",
      "\u001b[0;31mValueError\u001b[0m                                Traceback (most recent call last)",
      "File \u001b[0;32m/opt/anaconda3/envs/uds/lib/python3.8/site-packages/pandas/core/indexes/range.py:385\u001b[0m, in \u001b[0;36mRangeIndex.get_loc\u001b[0;34m(self, key, method, tolerance)\u001b[0m\n\u001b[1;32m    384\u001b[0m \u001b[38;5;28;01mtry\u001b[39;00m:\n\u001b[0;32m--> 385\u001b[0m     \u001b[38;5;28;01mreturn\u001b[39;00m \u001b[38;5;28;43mself\u001b[39;49m\u001b[38;5;241;43m.\u001b[39;49m\u001b[43m_range\u001b[49m\u001b[38;5;241;43m.\u001b[39;49m\u001b[43mindex\u001b[49m\u001b[43m(\u001b[49m\u001b[43mnew_key\u001b[49m\u001b[43m)\u001b[49m\n\u001b[1;32m    386\u001b[0m \u001b[38;5;28;01mexcept\u001b[39;00m \u001b[38;5;167;01mValueError\u001b[39;00m \u001b[38;5;28;01mas\u001b[39;00m err:\n",
      "\u001b[0;31mValueError\u001b[0m: 10 is not in range",
      "\nThe above exception was the direct cause of the following exception:\n",
      "\u001b[0;31mKeyError\u001b[0m                                  Traceback (most recent call last)",
      "Input \u001b[0;32mIn [93]\u001b[0m, in \u001b[0;36m<cell line: 2>\u001b[0;34m()\u001b[0m\n\u001b[1;32m      1\u001b[0m y \u001b[38;5;241m=\u001b[39m \u001b[38;5;241m10\u001b[39m\n\u001b[0;32m----> 2\u001b[0m \u001b[38;5;28mprint\u001b[39m(\u001b[38;5;28mlen\u001b[39m(\u001b[43mdf\u001b[49m\u001b[38;5;241;43m.\u001b[39;49m\u001b[43mfiles\u001b[49m\u001b[43m[\u001b[49m\u001b[43my\u001b[49m\u001b[43m]\u001b[49m))\n\u001b[1;32m      3\u001b[0m \u001b[38;5;28mprint\u001b[39m(df\u001b[38;5;241m.\u001b[39mtext[y])\n",
      "File \u001b[0;32m/opt/anaconda3/envs/uds/lib/python3.8/site-packages/pandas/core/series.py:958\u001b[0m, in \u001b[0;36mSeries.__getitem__\u001b[0;34m(self, key)\u001b[0m\n\u001b[1;32m    955\u001b[0m     \u001b[38;5;28;01mreturn\u001b[39;00m \u001b[38;5;28mself\u001b[39m\u001b[38;5;241m.\u001b[39m_values[key]\n\u001b[1;32m    957\u001b[0m \u001b[38;5;28;01melif\u001b[39;00m key_is_scalar:\n\u001b[0;32m--> 958\u001b[0m     \u001b[38;5;28;01mreturn\u001b[39;00m \u001b[38;5;28;43mself\u001b[39;49m\u001b[38;5;241;43m.\u001b[39;49m\u001b[43m_get_value\u001b[49m\u001b[43m(\u001b[49m\u001b[43mkey\u001b[49m\u001b[43m)\u001b[49m\n\u001b[1;32m    960\u001b[0m \u001b[38;5;28;01mif\u001b[39;00m is_hashable(key):\n\u001b[1;32m    961\u001b[0m     \u001b[38;5;66;03m# Otherwise index.get_value will raise InvalidIndexError\u001b[39;00m\n\u001b[1;32m    962\u001b[0m     \u001b[38;5;28;01mtry\u001b[39;00m:\n\u001b[1;32m    963\u001b[0m         \u001b[38;5;66;03m# For labels that don't resolve as scalars like tuples and frozensets\u001b[39;00m\n",
      "File \u001b[0;32m/opt/anaconda3/envs/uds/lib/python3.8/site-packages/pandas/core/series.py:1069\u001b[0m, in \u001b[0;36mSeries._get_value\u001b[0;34m(self, label, takeable)\u001b[0m\n\u001b[1;32m   1066\u001b[0m     \u001b[38;5;28;01mreturn\u001b[39;00m \u001b[38;5;28mself\u001b[39m\u001b[38;5;241m.\u001b[39m_values[label]\n\u001b[1;32m   1068\u001b[0m \u001b[38;5;66;03m# Similar to Index.get_value, but we do not fall back to positional\u001b[39;00m\n\u001b[0;32m-> 1069\u001b[0m loc \u001b[38;5;241m=\u001b[39m \u001b[38;5;28;43mself\u001b[39;49m\u001b[38;5;241;43m.\u001b[39;49m\u001b[43mindex\u001b[49m\u001b[38;5;241;43m.\u001b[39;49m\u001b[43mget_loc\u001b[49m\u001b[43m(\u001b[49m\u001b[43mlabel\u001b[49m\u001b[43m)\u001b[49m\n\u001b[1;32m   1070\u001b[0m \u001b[38;5;28;01mreturn\u001b[39;00m \u001b[38;5;28mself\u001b[39m\u001b[38;5;241m.\u001b[39mindex\u001b[38;5;241m.\u001b[39m_get_values_for_loc(\u001b[38;5;28mself\u001b[39m, loc, label)\n",
      "File \u001b[0;32m/opt/anaconda3/envs/uds/lib/python3.8/site-packages/pandas/core/indexes/range.py:387\u001b[0m, in \u001b[0;36mRangeIndex.get_loc\u001b[0;34m(self, key, method, tolerance)\u001b[0m\n\u001b[1;32m    385\u001b[0m         \u001b[38;5;28;01mreturn\u001b[39;00m \u001b[38;5;28mself\u001b[39m\u001b[38;5;241m.\u001b[39m_range\u001b[38;5;241m.\u001b[39mindex(new_key)\n\u001b[1;32m    386\u001b[0m     \u001b[38;5;28;01mexcept\u001b[39;00m \u001b[38;5;167;01mValueError\u001b[39;00m \u001b[38;5;28;01mas\u001b[39;00m err:\n\u001b[0;32m--> 387\u001b[0m         \u001b[38;5;28;01mraise\u001b[39;00m \u001b[38;5;167;01mKeyError\u001b[39;00m(key) \u001b[38;5;28;01mfrom\u001b[39;00m \u001b[38;5;21;01merr\u001b[39;00m\n\u001b[1;32m    388\u001b[0m \u001b[38;5;28mself\u001b[39m\u001b[38;5;241m.\u001b[39m_check_indexing_error(key)\n\u001b[1;32m    389\u001b[0m \u001b[38;5;28;01mraise\u001b[39;00m \u001b[38;5;167;01mKeyError\u001b[39;00m(key)\n",
      "\u001b[0;31mKeyError\u001b[0m: 10"
     ]
    }
   ],
   "source": []
  },
  {
   "cell_type": "markdown",
   "id": "1c5a496b",
   "metadata": {},
   "source": [
    "# Summary\n",
    "\n",
    "-Need to update application function to work for full dataframe.\n",
    "\n",
    "-Figure out how to read charters"
   ]
  },
  {
   "cell_type": "code",
   "execution_count": 9,
   "id": "7ff1c957",
   "metadata": {},
   "outputs": [
    {
     "name": "stdout",
     "output_type": "stream",
     "text": [
      "BOARD OF EDUCATION OF THE CITY OF LOS ANGELES Governing Board of the Los Angeles Unified School District REGULAR MEETING MINUTES South Beaudry Avenue Board Room am Tuesday January The Los Angeles Board of Education acting as the Governing Board of the Los Angeles Unified School District met in special session on Tuesday January at the Administrative Offices Board Room South Beaudry Avenue Los Angeles California Board President Mnica Garca called the meeting to order at am The following Board Members were present Ms Tamar Galatzan Ms Marguerite P LaMotte Ms Nury Martinez Dr Richard Vladovic and President Garca Mr Steven Zimmer and Mr Bennett Kayser arrived at am Closed Session Items Purpose and Authority Mr Jefferson Crain Executive Officer of the Board announced that the following items would be discussed in closed session Personnel Government Code Section Public Employment Associate General Counsel II Employee DisciplineDismissalRelease Employee Evaluation Superintendent Inspector General Conference with Labor Negotiator Government Code Section Negotiator Superintendent Deasy Employee Organizations Associated Administrators of Los Angeles California School Employees Association Los Angeles County Building and Construction Trades Council Los Angeles School Police Association Los Angeles School Police Sergeants and Lieutenants Association Service Employees International Union SEIU Local Teamsters United Teachers Los Angeles District Represented Employees and Contract Management Personnel Bd of Ed Closed Session Meeting Minutes am Student Discipline Matters California Education Code Sections c f Approval of Notes The Board recessed the public portion of the closed session meeting at am Closed session discussion began at am and ended at pm All Board Members were present during the closed portion of the meeting The Board reconvened the public portion of the closed session meeting at pm The following Members were present Ms Galatzan Ms LaMotte Ms Martinez Mr Zimmer and Ms Garca Mr Kayser and Dr Vladovic were absent Mr Crain announced the following reportable actions The Board of Education approved the expulsion of students in case numbers and with the recommended disposition In addition the Board of Education authorized the conditional enrollment of the students in case numbers A and A The vote was ayes no Dr Vladovic The Board of Education approved the expulsions of students in case numbers and with the recommended disposition In addition the Board of Education authorized the conditional enrollment of students in case numbers A and A The Board of Education also voted to deny enrollment for the student in case number A The vote was ayes The Board of Education approved the initiation of dismissal action against elementary teachers middle school teacher and high school teachers The vote was ayes The Board of Education approved the employment agreement with Mr Alexander Molina as Associate General Counsel II with a term ending June The vote was ayes The Board of Education approved notes from previous meetings The vote was ayes Bd of Ed Closed Session Meeting Minutes am On motion by Ms Martinez seconded by Ms Galatzan and by general consent the meeting was adjourned at pm Ms LaMotte Ms Martinez and Dr Vladovic were absent APPROVED BY THE BOARD February __________________________________ ____________________________________ MONICA GARCIA PRESIDENT EXECUTIVE OFFICER OF THE BOARD JEFFERSON CRAIN Bd of Ed Closed Session Meeting Minutes am \n"
     ]
    }
   ],
   "source": [
    "import pandas as pd\n",
    "df = pd.read_pickle('links12.pandas')\n",
    "pdf_path = df.files[3][0]\n",
    "name = 'trial'\n",
    "download_file(pdf_path, name)\n",
    "text = extract_text(\"files/{}.pdf\".format(name))\n",
    "text_wordsonly = re.sub(r\"[^A-z\\s]\", \"\", text)\n",
    "text_wordsonly = re.sub(r\"\\s+\", \" \", text_wordsonly)\n",
    "#print(pdf_path)\n",
    "print(text_wordsonly)\n",
    "#charters don't work\n",
    "#minutes usually work\n",
    "#application(df.files,df.names)"
   ]
  },
  {
   "cell_type": "code",
   "execution_count": 12,
   "id": "6d79f149",
   "metadata": {},
   "outputs": [
    {
     "ename": "AttributeError",
     "evalue": "'list' object has no attribute 'timeout'",
     "output_type": "error",
     "traceback": [
      "\u001b[0;31m---------------------------------------------------------------------------\u001b[0m",
      "\u001b[0;31mAttributeError\u001b[0m                            Traceback (most recent call last)",
      "Input \u001b[0;32mIn [12]\u001b[0m, in \u001b[0;36m<cell line: 12>\u001b[0;34m()\u001b[0m\n\u001b[1;32m      9\u001b[0m             texts\u001b[38;5;241m.\u001b[39mappend(text_wordsonly)\n\u001b[1;32m     10\u001b[0m     \u001b[38;5;28;01mreturn\u001b[39;00m texts\n\u001b[0;32m---> 12\u001b[0m \u001b[38;5;28mprint\u001b[39m(\u001b[43mapplication\u001b[49m\u001b[43m(\u001b[49m\u001b[43mdf\u001b[49m\u001b[38;5;241;43m.\u001b[39;49m\u001b[43mnames\u001b[49m\u001b[43m,\u001b[49m\u001b[43mdf\u001b[49m\u001b[38;5;241;43m.\u001b[39;49m\u001b[43mfiles\u001b[49m\u001b[43m)\u001b[49m)\n",
      "Input \u001b[0;32mIn [12]\u001b[0m, in \u001b[0;36mapplication\u001b[0;34m(pdfnames, pdfurls)\u001b[0m\n\u001b[1;32m      3\u001b[0m \u001b[38;5;28;01mif\u001b[39;00m \u001b[38;5;28mlen\u001b[39m(pdfnames) \u001b[38;5;241m>\u001b[39m \u001b[38;5;241m0\u001b[39m:\n\u001b[1;32m      4\u001b[0m     \u001b[38;5;28;01mfor\u001b[39;00m pdfname, pdfurl \u001b[38;5;129;01min\u001b[39;00m \u001b[38;5;28mzip\u001b[39m(pdfnames, pdfurls):\n\u001b[0;32m----> 5\u001b[0m         \u001b[43mdownload_file\u001b[49m\u001b[43m(\u001b[49m\u001b[43mpdfurl\u001b[49m\u001b[43m,\u001b[49m\u001b[43m \u001b[49m\u001b[43mpdfname\u001b[49m\u001b[43m)\u001b[49m\n\u001b[1;32m      6\u001b[0m         text \u001b[38;5;241m=\u001b[39m extract_text(\u001b[38;5;124m\"\u001b[39m\u001b[38;5;124mfiles/\u001b[39m\u001b[38;5;132;01m{}\u001b[39;00m\u001b[38;5;124m.pdf\u001b[39m\u001b[38;5;124m\"\u001b[39m\u001b[38;5;241m.\u001b[39mformat(pdfname))\n\u001b[1;32m      7\u001b[0m         text_wordsonly \u001b[38;5;241m=\u001b[39m re\u001b[38;5;241m.\u001b[39msub(\u001b[38;5;124mr\u001b[39m\u001b[38;5;124m\"\u001b[39m\u001b[38;5;124m[^A-z\u001b[39m\u001b[38;5;124m\\\u001b[39m\u001b[38;5;124ms]\u001b[39m\u001b[38;5;124m\"\u001b[39m, \u001b[38;5;124m\"\u001b[39m\u001b[38;5;124m\"\u001b[39m, text)\n",
      "Input \u001b[0;32mIn [5]\u001b[0m, in \u001b[0;36mdownload_file\u001b[0;34m(download_url, filename)\u001b[0m\n\u001b[1;32m     16\u001b[0m \u001b[38;5;28;01mdef\u001b[39;00m \u001b[38;5;21mdownload_file\u001b[39m(download_url, filename):\n\u001b[0;32m---> 17\u001b[0m     response \u001b[38;5;241m=\u001b[39m \u001b[43murllib\u001b[49m\u001b[38;5;241;43m.\u001b[39;49m\u001b[43mrequest\u001b[49m\u001b[38;5;241;43m.\u001b[39;49m\u001b[43murlopen\u001b[49m\u001b[43m(\u001b[49m\u001b[43mdownload_url\u001b[49m\u001b[43m)\u001b[49m    \n\u001b[1;32m     18\u001b[0m     file \u001b[38;5;241m=\u001b[39m \u001b[38;5;28mopen\u001b[39m(\u001b[38;5;124m\"\u001b[39m\u001b[38;5;124mfiles/\u001b[39m\u001b[38;5;124m\"\u001b[39m \u001b[38;5;241m+\u001b[39m filename \u001b[38;5;241m+\u001b[39m \u001b[38;5;124m\"\u001b[39m\u001b[38;5;124m.pdf\u001b[39m\u001b[38;5;124m\"\u001b[39m, \u001b[38;5;124m'\u001b[39m\u001b[38;5;124mwb\u001b[39m\u001b[38;5;124m'\u001b[39m)\n\u001b[1;32m     19\u001b[0m     file\u001b[38;5;241m.\u001b[39mwrite(response\u001b[38;5;241m.\u001b[39mread())\n",
      "File \u001b[0;32m/opt/anaconda3/envs/uds/lib/python3.8/urllib/request.py:222\u001b[0m, in \u001b[0;36murlopen\u001b[0;34m(url, data, timeout, cafile, capath, cadefault, context)\u001b[0m\n\u001b[1;32m    220\u001b[0m \u001b[38;5;28;01melse\u001b[39;00m:\n\u001b[1;32m    221\u001b[0m     opener \u001b[38;5;241m=\u001b[39m _opener\n\u001b[0;32m--> 222\u001b[0m \u001b[38;5;28;01mreturn\u001b[39;00m \u001b[43mopener\u001b[49m\u001b[38;5;241;43m.\u001b[39;49m\u001b[43mopen\u001b[49m\u001b[43m(\u001b[49m\u001b[43murl\u001b[49m\u001b[43m,\u001b[49m\u001b[43m \u001b[49m\u001b[43mdata\u001b[49m\u001b[43m,\u001b[49m\u001b[43m \u001b[49m\u001b[43mtimeout\u001b[49m\u001b[43m)\u001b[49m\n",
      "File \u001b[0;32m/opt/anaconda3/envs/uds/lib/python3.8/urllib/request.py:515\u001b[0m, in \u001b[0;36mOpenerDirector.open\u001b[0;34m(self, fullurl, data, timeout)\u001b[0m\n\u001b[1;32m    512\u001b[0m     \u001b[38;5;28;01mif\u001b[39;00m data \u001b[38;5;129;01mis\u001b[39;00m \u001b[38;5;129;01mnot\u001b[39;00m \u001b[38;5;28;01mNone\u001b[39;00m:\n\u001b[1;32m    513\u001b[0m         req\u001b[38;5;241m.\u001b[39mdata \u001b[38;5;241m=\u001b[39m data\n\u001b[0;32m--> 515\u001b[0m req\u001b[38;5;241m.\u001b[39mtimeout \u001b[38;5;241m=\u001b[39m timeout\n\u001b[1;32m    516\u001b[0m protocol \u001b[38;5;241m=\u001b[39m req\u001b[38;5;241m.\u001b[39mtype\n\u001b[1;32m    518\u001b[0m \u001b[38;5;66;03m# pre-process request\u001b[39;00m\n",
      "\u001b[0;31mAttributeError\u001b[0m: 'list' object has no attribute 'timeout'"
     ]
    }
   ],
   "source": [
    "def application (pdfnames, pdfurls):\n",
    "    texts = []\n",
    "    if len(pdfnames) > 0:\n",
    "        for pdfname, pdfurl in zip(pdfnames, pdfurls):\n",
    "            download_file(pdfurl, pdfname)\n",
    "            text = extract_text(\"files/{}.pdf\".format(pdfname))\n",
    "            text_wordsonly = re.sub(r\"[^A-z\\s]\", \"\", text)\n",
    "            text_wordsonly = re.sub(r\"\\s+\", \" \", text_wordsonly)\n",
    "            texts.append(text_wordsonly)\n",
    "    return texts\n",
    "\n",
    "print(application(df.names,df.files))"
   ]
  }
 ],
 "metadata": {
  "kernelspec": {
   "display_name": "Python 3 (ipykernel)",
   "language": "python",
   "name": "python3"
  },
  "language_info": {
   "codemirror_mode": {
    "name": "ipython",
    "version": 3
   },
   "file_extension": ".py",
   "mimetype": "text/x-python",
   "name": "python",
   "nbconvert_exporter": "python",
   "pygments_lexer": "ipython3",
   "version": "3.8.13"
  }
 },
 "nbformat": 4,
 "nbformat_minor": 5
}
