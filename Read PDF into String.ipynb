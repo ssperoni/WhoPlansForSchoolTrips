{
 "cells": [
  {
   "cell_type": "markdown",
   "id": "feaf101a",
   "metadata": {},
   "source": [
    "Test of PDF Reader into String (one demo file only)"
   ]
  },
  {
   "cell_type": "code",
   "execution_count": 27,
   "id": "380e310c",
   "metadata": {},
   "outputs": [
    {
     "ename": "FileNotFoundError",
     "evalue": "[Errno 2] No such file or directory: '/Volumes/GoogleDrive-105310167471895906199/My Drive/1 - Coursework/10 - 2021-22/UP 229/WhoPlansForSchoolTrips/TestPDFs/1-04-11CSMinutes.pdf'",
     "output_type": "error",
     "traceback": [
      "\u001b[0;31m---------------------------------------------------------------------------\u001b[0m",
      "\u001b[0;31mFileNotFoundError\u001b[0m                         Traceback (most recent call last)",
      "Input \u001b[0;32mIn [27]\u001b[0m, in \u001b[0;36m<cell line: 4>\u001b[0;34m()\u001b[0m\n\u001b[1;32m      1\u001b[0m \u001b[38;5;66;03m#Drawn from https://www.geeksforgeeks.org/working-with-pdf-files-in-python/ via Sophia\u001b[39;00m\n\u001b[1;32m      3\u001b[0m \u001b[38;5;28;01mimport\u001b[39;00m \u001b[38;5;21;01mPyPDF2\u001b[39;00m\n\u001b[0;32m----> 4\u001b[0m pdfFileObj \u001b[38;5;241m=\u001b[39m \u001b[38;5;28;43mopen\u001b[39;49m\u001b[43m(\u001b[49m\u001b[38;5;124;43m'\u001b[39;49m\u001b[38;5;124;43m/Volumes/GoogleDrive-105310167471895906199/My Drive/1 - Coursework/10 - 2021-22/UP 229/WhoPlansForSchoolTrips/TestPDFs/1-04-11CSMinutes.pdf\u001b[39;49m\u001b[38;5;124;43m'\u001b[39;49m\u001b[43m,\u001b[49m\u001b[43m \u001b[49m\u001b[38;5;124;43m'\u001b[39;49m\u001b[38;5;124;43mrb\u001b[39;49m\u001b[38;5;124;43m'\u001b[39;49m\u001b[43m)\u001b[49m\n\u001b[1;32m      5\u001b[0m pdfReader \u001b[38;5;241m=\u001b[39m PyPDF2\u001b[38;5;241m.\u001b[39mPdfFileReader(pdfFileObj)\n\u001b[1;32m      6\u001b[0m \u001b[38;5;66;03m#print(pdfReader.numPages) #prints number of pages in the \u001b[39;00m\n\u001b[1;32m      7\u001b[0m \u001b[38;5;66;03m#CAN READ ALL PAGES _FIX\u001b[39;00m\n",
      "\u001b[0;31mFileNotFoundError\u001b[0m: [Errno 2] No such file or directory: '/Volumes/GoogleDrive-105310167471895906199/My Drive/1 - Coursework/10 - 2021-22/UP 229/WhoPlansForSchoolTrips/TestPDFs/1-04-11CSMinutes.pdf'"
     ]
    }
   ],
   "source": [
    "#Drawn from https://www.geeksforgeeks.org/working-with-pdf-files-in-python/ via Sophia\n",
    "\n",
    "import PyPDF2\n",
    "pdfFileObj = open('/Volumes/GoogleDrive-105310167471895906199/My Drive/1 - Coursework/10 - 2021-22/UP 229/WhoPlansForSchoolTrips/TestPDFs/1-04-11CSMinutes.pdf', 'rb')\n",
    "pdfReader = PyPDF2.PdfFileReader(pdfFileObj)\n",
    "#print(pdfReader.numPages) #prints number of pages in the \n",
    "#CAN READ ALL PAGES _FIX\n",
    "pageObj = pdfReader.getPage(0)   #creates a page object, but I have no idea why?\n",
    "print(pageObj.extractText())   #shows text -- would comment this out when applying to whole pot\n",
    "pdfFileObj.close()  #closes the object, but I'm not 100% sure why this is needed beyond it's how the code reads the PDF and then needs to close it?"
   ]
  },
  {
   "cell_type": "code",
   "execution_count": 2,
   "id": "80eac5a8",
   "metadata": {},
   "outputs": [],
   "source": [
    "#this is me trying to purely read the pdf file - works but not readable\n",
    "import urllib3\n",
    "http = urllib3.PoolManager()\n",
    "r = http.request('GET', 'http://laschoolboard.org/sites/default/files/1-04-11CSMinutes.pdf')"
   ]
  },
  {
   "cell_type": "code",
   "execution_count": 1,
   "id": "9d4d5c43",
   "metadata": {
    "scrolled": false
   },
   "outputs": [],
   "source": [
    "#print(r.data)"
   ]
  },
  {
   "cell_type": "code",
   "execution_count": 47,
   "id": "1bbf11e7",
   "metadata": {},
   "outputs": [],
   "source": [
    "#import urllib.request\n",
    "#borrowed this from here https://www.codegrepper.com/code-examples/python/use+urllib3+in+python+3+to+get+pdf+file+from+url\n",
    "#download file into 'files' folder\n",
    "\n",
    "#read said downloaded file THIS IS OBSOLETE - PDF MINER WORKS MUCH BETTER\n",
    "def read_download(name):\n",
    "    pdfFileObj = open('files/{}.pdf'.format(name), 'rb')\n",
    "    pdfReader = PyPDF2.PdfFileReader(pdfFileObj)\n",
    "    pageObj = pdfReader.getPage(0)  \n",
    "    text = pageObj.extractText()   \n",
    "    pdfFileObj.close()\n",
    "    return text   \n",
    "#apply this to dataframe\n",
    "#inputs are two lists- as in the dataframe \n",
    "#only go into pdf reading if the length of list of names/links is greater than 0 \n",
    "def download_file(download_url, filename):\n",
    "    response = urllib.request.urlopen(download_url)    \n",
    "    file = open(\"files/\" + filename + \".pdf\", 'wb')\n",
    "    file.write(response.read())\n",
    "    file.close()\n",
    "def application (pdfnames, pdfurls):\n",
    "    texts = []\n",
    "    if len(pdfnames) > 0:\n",
    "        for pdfname, pdfurl in zip(pdfnames, pdfurls):\n",
    "            download_file(pdfurl, pdfname)\n",
    "            text = extract_text(\"files/{}.pdf\".format(pdfname))\n",
    "            text_wordsonly = re.sub(r\"[^A-z\\s]\", \"\", text)\n",
    "            text_wordsonly = re.sub(r\"\\s+\", \" \", text_wordsonly)\n",
    "            texts.append(text_wordsonly)\n",
    "    return texts"
   ]
  },
  {
   "cell_type": "code",
   "execution_count": 17,
   "id": "7dd79844",
   "metadata": {
    "scrolled": false
   },
   "outputs": [
    {
     "name": "stdout",
     "output_type": "stream",
     "text": [
      "BOARD OF EDUCATION OF THE CITY OF LOS ANGELES Governing Board of the Los Angeles Unified School District SPECIAL MEETING ORDER OF BUSINESS South Beaudry Avenue Board Room am Tuesday January A Roll Call of Members B Public Comment on Items to be Discussed at This Meeting The public can address the Board at the commencement of the meeting in the Board Room on any item that is described in this notice At the conclusion of the closed session portion of the meeting announcements required regarding actions taken by the Board of Education will be made in the Board Room C Closed Session Items Purpose and Authority Conference with Legal Counsel Existing Litigation Government Code Section a Los Angeles Unified School District v Dolly Harris et al Los Angeles Superior Court Case No BC Conference with Labor Negotiator Government Code Negotiator Superintendent Cortines Employee Organizations Associated Administrators of Los Angeles California School Employees Association Los Angeles County Building and Construction Trades Council Los Angeles School Police Association Los Angeles School Police Sergeants and Lieutenants Association Service Employees International Union SEIU Local Teamsters United Teachers Los Angeles District Represented Employees and Contract Management Personnel Personnel Government Code Section Employee DisciplineDismissalRelease Employee Evaluation Superintendent of Schools Inspector General Approval of Notes Bd of Ed Closed Session Meeting Order of Business am D Recess into Closed Session E Reconvene to Open Session Report on any actions taken F Adjournment Please note that the Board of Education may consider at this meeting any item referred from a Board Meeting five calendar days prior to this meeting Education Code b The Board of Education may also refer any item on this Order of Business for the consideration of a committee or meeting of the Board of Education which meets on the Thursday immediately after this meeting Requests for disability related modifications or accommodations shall be made hours prior to the meeting to the Board Secretariat in person or by calling Beginning November a new process for speaking at Board Meetings has been implemented Individuals wishing to speak at a Board meeting must sign up at the meeting There will be no sign ups in advance of the meeting Speakers must sign up prior to the item being acted upon by the Board Speakers should plan to arrive early as items with no speakers may be acted on at the beginning of the meeting If you or your organization is seeking to influence an agreement policy site selection or any other LAUSD decision registration may be required under the Districts Lobbying Disclosure Code Please visit wwwlausdnetethics to determine if you need to register or call Materials related to an item on this Order of Business distributed to the Board of Education are available for public inspection at the Security Desk on the first floor of the Administrative Headquarters and httplaschoolboardorgnode Items circulated after the initial distribution of materials are available for inspection at the Security Desk Bd of Ed Closed Session Meeting Order of Business am \n"
     ]
    }
   ],
   "source": [
    "pdf_path = \"http://laschoolboard.org/sites/default/files/1-04-11CSAgenda.pdf\"\n",
    "name = 'r'\n",
    "\n",
    "download_file(pdf_path, name)\n",
    "from pdfminer.high_level import extract_text\n",
    "import re\n",
    "text = extract_text(\"files/{}.pdf\".format(name))\n",
    "text_wordsonly = re.sub(r\"[^A-z\\s]\", \"\", text)\n",
    "text_wordsonly = re.sub(r\"\\s+\", \" \", text_wordsonly)\n",
    "print(text_wordsonly)"
   ]
  },
  {
   "cell_type": "markdown",
   "id": "1c5a496b",
   "metadata": {},
   "source": [
    "# Summary\n",
    "\n",
    "-Need to update application function to work for full dataframe.\n",
    "\n",
    "-Figure out how to read charters"
   ]
  },
  {
   "cell_type": "code",
   "execution_count": 49,
   "id": "7ff1c957",
   "metadata": {},
   "outputs": [
    {
     "name": "stdout",
     "output_type": "stream",
     "text": [
      "BOARD OF EDUCATION OF THE CITY OF LOS ANGELES GOVERNING BOARD OF THE LOS ANGELES UNIFIED SCHOOL DISTRICT BUDGET FACILITIES AND AUDIT COMMITTEE South Beaudry Avenue Board Room am Tuesday January Committee Members Ms Tamar Galatzan Chairperson Ms Nury Martinez Mr Steve Zimmer Board Secretariat Contact Janet Saavedra Tel Email janetsaavedralausdnet Outside Committee Persons Mr Luis Rojas AALA Representative Ms Heather Daims AALA Representative Mr Lewis Chappelear UTLA Representative Mr Tim Delia UTLA Representative Mr Frank Torres SEIU Representative Ms Elizabeth BarEl BOC Representative AGENDA Opening Remarks Ms Tamar Galatzan Chair Budget Update Mr Edgar Zazueta Director Governmental Relations Audit Planning Process Mr Jess Womack Inspector General Theft of Technology Equipment Chief Steven Zipperman Chief of Police LAUSD ITD Value of Stolen Items Opportunities LAUSD Risk Management Insurance Services Mr Ron Chandler Chief Information Officer Mr Robert Reider Director of Risk Finance and Insurance Outside Perspective How USC Protects Its Technology Equipment Mr Robert Lau Director ITS Systems Security USC Information Security Public Comment Persons who wish to address this committee may signup at the meeting Adjournment The Committee may consider and act upon motions Board Reports or other business referred to it by the Board of Education The Board of Education may also refer any item on this Order of Business for the consideration of a committee or meeting of the Board of Education Requests for disability related modifications or accommodations shall be made hours prior to the meeting to the Board Secretariat in person or by calling Individuals wishing to speak at a Board meeting must sign up at the meeting There will be no sign ups in advance of the meeting Speakers must sign up prior to the item being acted upon by the Board Speakers should plan to arrive early as items with no speakers may be acted on at the beginning of the meeting If you or your organization is seeking to influence an agreement policy site selection or any other LAUSD decision registration may be required under the Districts Lobbying Disclosure Code Please visit wwwlausdnetethics to determine if you need to register or call Materials related to an item on this Order of Business distributed to the Board of Education are available for public inspection at the Security Desk on the first floor of the Administrative Headquarters and at httplaschoolboardorgBFAMtg Items circulated after the initial distribution of materials are available for inspection at the Security Desk Budget Facilities and Audit Committee Agenda am \n"
     ]
    }
   ],
   "source": [
    "import pandas as pd\n",
    "df = pd.read_pickle('links12.pandas')\n",
    "#pdf_path = df.files[9][0]\n",
    "name = 'trial'\n",
    "download_file(pdf_path, name)\n",
    "text = extract_text(\"files/{}.pdf\".format(name))\n",
    "text_wordsonly = re.sub(r\"[^A-z\\s]\", \"\", text)\n",
    "text_wordsonly = re.sub(r\"\\s+\", \" \", text_wordsonly)\n",
    "#print(pdf_path)\n",
    "print(text_wordsonly)\n",
    "#charters don't work\n",
    "#minutes usually work\n",
    "#application(df.files,df.names)"
   ]
  }
 ],
 "metadata": {
  "kernelspec": {
   "display_name": "Python 3 (ipykernel)",
   "language": "python",
   "name": "python3"
  },
  "language_info": {
   "codemirror_mode": {
    "name": "ipython",
    "version": 3
   },
   "file_extension": ".py",
   "mimetype": "text/x-python",
   "name": "python",
   "nbconvert_exporter": "python",
   "pygments_lexer": "ipython3",
   "version": "3.8.12"
  }
 },
 "nbformat": 4,
 "nbformat_minor": 5
}
