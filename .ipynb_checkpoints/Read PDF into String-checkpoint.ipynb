{
 "cells": [
  {
   "cell_type": "markdown",
   "id": "feaf101a",
   "metadata": {},
   "source": [
    "Test of PDF Reader into String (one demo file only)"
   ]
  },
  {
   "cell_type": "code",
   "execution_count": 5,
   "id": "380e310c",
   "metadata": {},
   "outputs": [
    {
     "name": "stdout",
     "output_type": "stream",
     "text": [
      "2\n",
      "Bd. of Ed. Closed Session Meeting - 1 - Minutes, 10:00 a.m., 1-04-11 BOARD OF EDUCATION OF THE CITY OF LOS ANGELES Governing Board of the Los Angeles Unified School District  SPECIAL MEETING MINUTES 333 South Beaudry Avenue, Board Room 10:00 a.m., Tuesday, January 4, 2011   The Los Angeles Board of Education acting as the Governing Board of the Los Angeles Unified School District, met in special session on Tuesday, January 4, 2011, at the Administrative Offices, 333 South Beaudry Avenue, Board Room, Los Angeles, California.  Board President MŠnica Garc™a called the meeting to order at 10:10 a.m.   The following Board Members were present:  Ms. Yolie Flores, Ms. Tamar Galatzan, Ms. Marguerite P. LaMotte, Mr. Steven Zimmer, and President Garc™a.  Ms. Nury Martinez arrived at 10:14 a.m., and  Dr. Richard Vladovic arrived at 10:25 a.m.  - - - -  CLOSED SESSION (Purpose and Authority)  Mr. Jefferson Crain, Executive Officer of the Board, announced that the following items would be discussed in closed session:   1. Conference with Legal Counsel                    Existing Litigation (Government Code Section 54956.9(a))        Los Angeles Unified School District v. Dolly Harris, et al.      Los Angeles Superior Court Case No. BC 412841   2. Conference with Labor Negotiator (Government Code ¤54957.6)      Negotiator:  Superintendent Cortines     Employee Organizations:      Associated Administrators of Los Angeles     California School Employees Association     Los Angeles County Building and Construction Trades Council     Los Angeles School Police Association    Los Angeles School Police Sergeants and Lieutenants Association    Service Employees International Union, SEIU Local 99      Teamsters     United Teachers Los Angeles    District Represented Employees and Contract Management Personnel    \n"
     ]
    }
   ],
   "source": [
    "#Drawn from https://www.geeksforgeeks.org/working-with-pdf-files-in-python/ via Sophia\n",
    "\n",
    "import PyPDF2\n",
    "pdfFileObj = open('/Volumes/GoogleDrive-105310167471895906199/My Drive/1 - Coursework/10 - 2021-22/UP 229/WhoPlansForSchoolTrips/TestPDFs/1-04-11CSMinutes.pdf', 'rb')\n",
    "pdfReader = PyPDF2.PdfFileReader(pdfFileObj)\n",
    "#print(pdfReader.numPages) #prints number of pages in the PDF\n",
    "pageObj = pdfReader.getPage(0)   #creates a page object, but I have no idea why?\n",
    "print(pageObj.extractText())   #shows text -- would comment this out when applying to whole pot\n",
    "pdfFileObj.close()  #closes the object, but I'm not 100% sure why this is needed beyond it's how the code reads the PDF and then needs to close it?"
   ]
  },
  {
   "cell_type": "code",
   "execution_count": 6,
   "id": "80eac5a8",
   "metadata": {},
   "outputs": [
    {
     "ename": "TypeError",
     "evalue": "expected str, bytes or os.PathLike object, not _io.BytesIO",
     "output_type": "error",
     "traceback": [
      "\u001b[0;31m---------------------------------------------------------------------------\u001b[0m",
      "\u001b[0;31mTypeError\u001b[0m                                 Traceback (most recent call last)",
      "Input \u001b[0;32mIn [6]\u001b[0m, in \u001b[0;36m<cell line: 10>\u001b[0;34m()\u001b[0m\n\u001b[1;32m      7\u001b[0m remote_file \u001b[38;5;241m=\u001b[39m urllib\u001b[38;5;241m.\u001b[39mrequest\u001b[38;5;241m.\u001b[39murlopen(url)\u001b[38;5;241m.\u001b[39mread()\n\u001b[1;32m      8\u001b[0m memory_file \u001b[38;5;241m=\u001b[39m io\u001b[38;5;241m.\u001b[39mBytesIO(remote_file)\n\u001b[0;32m---> 10\u001b[0m pdfFileObj \u001b[38;5;241m=\u001b[39m \u001b[38;5;28;43mopen\u001b[39;49m\u001b[43m(\u001b[49m\u001b[43mmemory_file\u001b[49m\u001b[43m,\u001b[49m\u001b[43m \u001b[49m\u001b[38;5;124;43m'\u001b[39;49m\u001b[38;5;124;43mrb\u001b[39;49m\u001b[38;5;124;43m'\u001b[39;49m\u001b[43m)\u001b[49m\n\u001b[1;32m     11\u001b[0m pdfReader \u001b[38;5;241m=\u001b[39m PyPDF2\u001b[38;5;241m.\u001b[39mPdfFileReader(pdfFileObj)\n\u001b[1;32m     12\u001b[0m \u001b[38;5;66;03m#print(pdfReader.numPages) #prints number of pages in the PDF\u001b[39;00m\n",
      "\u001b[0;31mTypeError\u001b[0m: expected str, bytes or os.PathLike object, not _io.BytesIO"
     ]
    }
   ],
   "source": [
    "#As a function\n",
    "import PyPDF2\n",
    "import urllib.request\n",
    "import io\n",
    "\n",
    "url = 'http://laschoolboard.org/sites/default/files/1-4-11%20SpecMinutes.pdf'\n",
    "remote_file = urllib.request.urlopen(url).read()\n",
    "memory_file = io.BytesIO(remote_file)\n",
    "\n",
    "pdfFileObj = open(memory_file, 'rb')\n",
    "pdfReader = PyPDF2.PdfFileReader(pdfFileObj)\n",
    "#print(pdfReader.numPages) #prints number of pages in the PDF\n",
    "pageObj = pdfReader.getPage(0)   #creates a page object, but I have no idea why?\n",
    "pdfText = pageObj.extractText()   #shows text -- would comment this out when applying to whole pot\n",
    "pdfFileObj.close()\n",
    "\n",
    "print(pdfText)"
   ]
  },
  {
   "cell_type": "code",
   "execution_count": 8,
   "id": "9d4d5c43",
   "metadata": {},
   "outputs": [
    {
     "ename": "SyntaxError",
     "evalue": "invalid syntax (1401005739.py, line 3)",
     "output_type": "error",
     "traceback": [
      "\u001b[0;36m  Input \u001b[0;32mIn [8]\u001b[0;36m\u001b[0m\n\u001b[0;31m    pip install pdftotext\u001b[0m\n\u001b[0m        ^\u001b[0m\n\u001b[0;31mSyntaxError\u001b[0m\u001b[0;31m:\u001b[0m invalid syntax\n"
     ]
    }
   ],
   "source": [
    "#trying a different reader tool\n",
    "\n",
    "pip install pdftotext\n",
    "\n",
    "import pdftotext\n",
    "from six.moves.urllib.request import urlopen\n",
    "import io\n",
    "\n",
    "url = 'http://laschoolboard.org/sites/default/files/1-4-11%20SpecMinutes.pdf'\n",
    "remote_file = urlopen(url).read()\n",
    "memory_file = io.BytesIO(remote_file)\n",
    "\n",
    "pdf = pdftotext.PDF(memory_file)\n",
    "\n",
    "# Iterate over all the pages\n",
    "for page in pdf:\n",
    "    print(page)"
   ]
  }
 ],
 "metadata": {
  "kernelspec": {
   "display_name": "Python 3 (ipykernel)",
   "language": "python",
   "name": "python3"
  },
  "language_info": {
   "codemirror_mode": {
    "name": "ipython",
    "version": 3
   },
   "file_extension": ".py",
   "mimetype": "text/x-python",
   "name": "python",
   "nbconvert_exporter": "python",
   "pygments_lexer": "ipython3",
   "version": "3.8.13"
  }
 },
 "nbformat": 4,
 "nbformat_minor": 5
}
