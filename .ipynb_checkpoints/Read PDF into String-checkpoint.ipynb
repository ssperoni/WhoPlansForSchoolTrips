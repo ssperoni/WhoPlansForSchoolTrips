{
 "cells": [
  {
   "cell_type": "markdown",
   "id": "feaf101a",
   "metadata": {},
   "source": [
    "Test of PDF Reader into String (one demo file only)"
   ]
  },
  {
   "cell_type": "code",
   "execution_count": 5,
   "id": "380e310c",
   "metadata": {},
   "outputs": [
    {
     "name": "stdout",
     "output_type": "stream",
     "text": [
      "2\n",
      "Bd. of Ed. Closed Session Meeting - 1 - Minutes, 10:00 a.m., 1-04-11 BOARD OF EDUCATION OF THE CITY OF LOS ANGELES Governing Board of the Los Angeles Unified School District  SPECIAL MEETING MINUTES 333 South Beaudry Avenue, Board Room 10:00 a.m., Tuesday, January 4, 2011   The Los Angeles Board of Education acting as the Governing Board of the Los Angeles Unified School District, met in special session on Tuesday, January 4, 2011, at the Administrative Offices, 333 South Beaudry Avenue, Board Room, Los Angeles, California.  Board President MŠnica Garc™a called the meeting to order at 10:10 a.m.   The following Board Members were present:  Ms. Yolie Flores, Ms. Tamar Galatzan, Ms. Marguerite P. LaMotte, Mr. Steven Zimmer, and President Garc™a.  Ms. Nury Martinez arrived at 10:14 a.m., and  Dr. Richard Vladovic arrived at 10:25 a.m.  - - - -  CLOSED SESSION (Purpose and Authority)  Mr. Jefferson Crain, Executive Officer of the Board, announced that the following items would be discussed in closed session:   1. Conference with Legal Counsel                    Existing Litigation (Government Code Section 54956.9(a))        Los Angeles Unified School District v. Dolly Harris, et al.      Los Angeles Superior Court Case No. BC 412841   2. Conference with Labor Negotiator (Government Code ¤54957.6)      Negotiator:  Superintendent Cortines     Employee Organizations:      Associated Administrators of Los Angeles     California School Employees Association     Los Angeles County Building and Construction Trades Council     Los Angeles School Police Association    Los Angeles School Police Sergeants and Lieutenants Association    Service Employees International Union, SEIU Local 99      Teamsters     United Teachers Los Angeles    District Represented Employees and Contract Management Personnel    \n"
     ]
    }
   ],
   "source": [
    "#Drawn from https://www.geeksforgeeks.org/working-with-pdf-files-in-python/ via Sophia\n",
    "\n",
    "import PyPDF2\n",
    "pdfFileObj = open('/Volumes/GoogleDrive-105310167471895906199/My Drive/1 - Coursework/10 - 2021-22/UP 229/WhoPlansForSchoolTrips/TestPDFs/1-04-11CSMinutes.pdf', 'rb')\n",
    "pdfReader = PyPDF2.PdfFileReader(pdfFileObj)\n",
    "#print(pdfReader.numPages) #prints number of pages in the PDF\n",
    "pageObj = pdfReader.getPage(0)   #creates a page object, but I have no idea why?\n",
    "print(pageObj.extractText())   #shows text -- would comment this out when applying to whole pot\n",
    "pdfFileObj.close()  #closes the object, but I'm not 100% sure why this is needed beyond it's how the code reads the PDF and then needs to close it?"
   ]
  },
  {
   "cell_type": "code",
   "execution_count": 9,
   "id": "80eac5a8",
   "metadata": {},
   "outputs": [
    {
     "name": "stdout",
     "output_type": "stream",
     "text": [
      "Bd. of Ed. Closed Session Meeting - 1 - Minutes, 10:00 a.m., 1-04-11 BOARD OF EDUCATION OF THE CITY OF LOS ANGELES Governing Board of the Los Angeles Unified School District  SPECIAL MEETING MINUTES 333 South Beaudry Avenue, Board Room 10:00 a.m., Tuesday, January 4, 2011   The Los Angeles Board of Education acting as the Governing Board of the Los Angeles Unified School District, met in special session on Tuesday, January 4, 2011, at the Administrative Offices, 333 South Beaudry Avenue, Board Room, Los Angeles, California.  Board President MŠnica Garc™a called the meeting to order at 10:10 a.m.   The following Board Members were present:  Ms. Yolie Flores, Ms. Tamar Galatzan, Ms. Marguerite P. LaMotte, Mr. Steven Zimmer, and President Garc™a.  Ms. Nury Martinez arrived at 10:14 a.m., and  Dr. Richard Vladovic arrived at 10:25 a.m.  - - - -  CLOSED SESSION (Purpose and Authority)  Mr. Jefferson Crain, Executive Officer of the Board, announced that the following items would be discussed in closed session:   1. Conference with Legal Counsel                    Existing Litigation (Government Code Section 54956.9(a))        Los Angeles Unified School District v. Dolly Harris, et al.      Los Angeles Superior Court Case No. BC 412841   2. Conference with Labor Negotiator (Government Code ¤54957.6)      Negotiator:  Superintendent Cortines     Employee Organizations:      Associated Administrators of Los Angeles     California School Employees Association     Los Angeles County Building and Construction Trades Council     Los Angeles School Police Association    Los Angeles School Police Sergeants and Lieutenants Association    Service Employees International Union, SEIU Local 99      Teamsters     United Teachers Los Angeles    District Represented Employees and Contract Management Personnel    \n"
     ]
    }
   ],
   "source": [
    "#As a function\n",
    "import PyPDF2\n",
    "\n",
    "\n",
    "pdfFileObj = open('/Volumes/GoogleDrive-105310167471895906199/My Drive/1 - Coursework/10 - 2021-22/UP 229/WhoPlansForSchoolTrips/TestPDFs/1-04-11CSMinutes.pdf', 'rb')\n",
    "pdfReader = PyPDF2.PdfFileReader(pdfFileObj)\n",
    "#print(pdfReader.numPages) #prints number of pages in the PDF\n",
    "pageObj = pdfReader.getPage(0)   #creates a page object, but I have no idea why?\n",
    "pdfText = pageObj.extractText()   #shows text -- would comment this out when applying to whole pot\n",
    "pdfFileObj.close()\n",
    "\n",
    "print(pdfText)"
   ]
  }
 ],
 "metadata": {
  "kernelspec": {
   "display_name": "Python 3 (ipykernel)",
   "language": "python",
   "name": "python3"
  },
  "language_info": {
   "codemirror_mode": {
    "name": "ipython",
    "version": 3
   },
   "file_extension": ".py",
   "mimetype": "text/x-python",
   "name": "python",
   "nbconvert_exporter": "python",
   "pygments_lexer": "ipython3",
   "version": "3.8.13"
  }
 },
 "nbformat": 4,
 "nbformat_minor": 5
}
